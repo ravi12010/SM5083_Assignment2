{
  "nbformat": 4,
  "nbformat_minor": 0,
  "metadata": {
    "colab": {
      "name": "Assignment2.ipynb",
      "provenance": []
    },
    "kernelspec": {
      "name": "python3",
      "display_name": "Python 3"
    },
    "language_info": {
      "name": "python"
    }
  },
  "cells": [
    {
      "cell_type": "code",
      "metadata": {
        "colab": {
          "base_uri": "https://localhost:8080/"
        },
        "id": "a0Sv8rfmGPO7",
        "outputId": "344dc340-2f9a-40ae-f3ce-ea62cf7f1276"
      },
      "source": [
        "import math\n",
        " \n",
        "# Function to find the\n",
        "# angle between two lines\n",
        "def findAngle(M1, M2):\n",
        "    PI = 3.14159265\n",
        "     \n",
        "    # Store the tan value  of the angle\n",
        "    angle = abs((M2 - M1) / (1 + M1 * M2))\n",
        " \n",
        "    # Calculate tan inverse of the angle\n",
        "    ret = atan(angle)\n",
        "    # Convert the angle from\n",
        "    # radian to degree\n",
        "    val = (ret * 180) / PI\n",
        " \n",
        "    # Print the result\n",
        "    print (round(val, 4))\n",
        " \n",
        "# Driver Code\n",
        "if __name__ == '__main__':\n",
        "    a = (11*math.pi) / 24\n",
        "    b = (19*math.pi) / 24\n",
        "    M1 = math.tan(a)\n",
        "    M2 = math.tan(b)\n",
        "    findAngle(M1, M2)"
      ],
      "execution_count": 11,
      "outputs": [
        {
          "output_type": "stream",
          "name": "stdout",
          "text": [
            "60.0\n"
          ]
        }
      ]
    }
  ]
}